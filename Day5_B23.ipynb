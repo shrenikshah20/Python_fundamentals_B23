{
 "cells": [
  {
   "cell_type": "code",
   "execution_count": null,
   "metadata": {},
   "outputs": [],
   "source": [
    "Introduction to looping statments :\n",
    "    \n",
    "    working with for loops"
   ]
  },
  {
   "cell_type": "code",
   "execution_count": null,
   "metadata": {},
   "outputs": [],
   "source": []
  },
  {
   "cell_type": "code",
   "execution_count": 5,
   "metadata": {},
   "outputs": [],
   "source": [
    "bank_customers=['naveen','papi','ram','karthik','samia','surya','vandana','anushka']"
   ]
  },
  {
   "cell_type": "code",
   "execution_count": null,
   "metadata": {},
   "outputs": [],
   "source": [
    "# Req: To  greet the customer on a new year\n",
    "\n",
    "wish you a very happy new year"
   ]
  },
  {
   "cell_type": "code",
   "execution_count": 7,
   "metadata": {},
   "outputs": [
    {
     "name": "stdout",
     "output_type": "stream",
     "text": [
      "wish you a very happy new year,naveen\n"
     ]
    }
   ],
   "source": [
    "print(f\"wish you a very happy new year,{bank_customers[0]}\")"
   ]
  },
  {
   "cell_type": "code",
   "execution_count": 8,
   "metadata": {},
   "outputs": [
    {
     "name": "stdout",
     "output_type": "stream",
     "text": [
      "wish you a very happy new year,papi\n"
     ]
    }
   ],
   "source": [
    "print(f\"wish you a very happy new year,{bank_customers[1]}\")"
   ]
  },
  {
   "cell_type": "code",
   "execution_count": 43,
   "metadata": {},
   "outputs": [
    {
     "ename": "NameError",
     "evalue": "name 'mainvar' is not defined",
     "output_type": "error",
     "traceback": [
      "\u001b[1;31m---------------------------------------------------------------------------\u001b[0m",
      "\u001b[1;31mNameError\u001b[0m                                 Traceback (most recent call last)",
      "\u001b[1;32m<ipython-input-43-1cf27469de79>\u001b[0m in \u001b[0;36m<module>\u001b[1;34m\u001b[0m\n\u001b[0;32m      2\u001b[0m \u001b[1;33m\u001b[0m\u001b[0m\n\u001b[0;32m      3\u001b[0m \u001b[1;33m\u001b[0m\u001b[0m\n\u001b[1;32m----> 4\u001b[1;33m \u001b[1;32mfor\u001b[0m \u001b[0mtempvar\u001b[0m \u001b[1;32min\u001b[0m \u001b[0mmainvar\u001b[0m\u001b[1;33m:\u001b[0m\u001b[1;33m\u001b[0m\u001b[1;33m\u001b[0m\u001b[0m\n\u001b[0m\u001b[0;32m      5\u001b[0m     \u001b[0mprint\u001b[0m\u001b[1;33m(\u001b[0m\u001b[0mtempvar\u001b[0m\u001b[1;33m)\u001b[0m \u001b[1;31m#  space before the print is called as Indentation\u001b[0m\u001b[1;33m\u001b[0m\u001b[1;33m\u001b[0m\u001b[0m\n",
      "\u001b[1;31mNameError\u001b[0m: name 'mainvar' is not defined"
     ]
    }
   ],
   "source": [
    "# General syntax of a for loop\n",
    "\n",
    "\n",
    "for tempvar in mainvar:\n",
    "    print(tempvar) #  space before the print is called as Indentation"
   ]
  },
  {
   "cell_type": "code",
   "execution_count": 17,
   "metadata": {},
   "outputs": [
    {
     "name": "stdout",
     "output_type": "stream",
     "text": [
      "wish you a very happy new year, naveen\n",
      "wish you a very happy new year, papi\n",
      "wish you a very happy new year, ram\n",
      "wish you a very happy new year, karthik\n",
      "wish you a very happy new year, samia\n",
      "wish you a very happy new year, surya\n",
      "wish you a very happy new year, vandana\n",
      "wish you a very happy new year, anushka\n"
     ]
    }
   ],
   "source": [
    "for x in bank_customers:\n",
    "    print(f\"wish you a very happy new year, {x}\")"
   ]
  },
  {
   "cell_type": "code",
   "execution_count": null,
   "metadata": {},
   "outputs": [],
   "source": []
  },
  {
   "cell_type": "code",
   "execution_count": 29,
   "metadata": {},
   "outputs": [],
   "source": [
    "students=['suman','keerthi','yasmeen','ravi','praveen','sajid','john']"
   ]
  },
  {
   "cell_type": "code",
   "execution_count": null,
   "metadata": {},
   "outputs": [],
   "source": [
    "# Req : To appreciate the students "
   ]
  },
  {
   "cell_type": "code",
   "execution_count": 30,
   "metadata": {},
   "outputs": [
    {
     "name": "stdout",
     "output_type": "stream",
     "text": [
      "keep up the good work, suman\n",
      "keep up the good work, keerthi\n",
      "keep up the good work, yasmeen\n",
      "keep up the good work, ravi\n",
      "keep up the good work, praveen\n",
      "keep up the good work, sajid\n",
      "keep up the good work, john\n"
     ]
    }
   ],
   "source": [
    "for x in students:\n",
    "    print(f\"keep up the good work, {x}\")"
   ]
  },
  {
   "cell_type": "code",
   "execution_count": 31,
   "metadata": {},
   "outputs": [
    {
     "name": "stdout",
     "output_type": "stream",
     "text": [
      "keep up the good work, Suman\n",
      "keep up the good work, Keerthi\n",
      "keep up the good work, Yasmeen\n",
      "keep up the good work, Ravi\n",
      "keep up the good work, Praveen\n",
      "keep up the good work, Sajid\n",
      "keep up the good work, John\n"
     ]
    }
   ],
   "source": [
    "for x in students:\n",
    "    print(f\"keep up the good work, {x.title()}\")"
   ]
  },
  {
   "cell_type": "code",
   "execution_count": null,
   "metadata": {},
   "outputs": [],
   "source": [
    "# Enhancement of the code "
   ]
  },
  {
   "cell_type": "code",
   "execution_count": 32,
   "metadata": {},
   "outputs": [
    {
     "name": "stdout",
     "output_type": "stream",
     "text": [
      "keep up the good work, Suman\n",
      "I wil be looking forward to receive all your practice files today, Suman\n",
      "keep up the good work, Keerthi\n",
      "I wil be looking forward to receive all your practice files today, Keerthi\n",
      "keep up the good work, Yasmeen\n",
      "I wil be looking forward to receive all your practice files today, Yasmeen\n",
      "keep up the good work, Ravi\n",
      "I wil be looking forward to receive all your practice files today, Ravi\n",
      "keep up the good work, Praveen\n",
      "I wil be looking forward to receive all your practice files today, Praveen\n",
      "keep up the good work, Sajid\n",
      "I wil be looking forward to receive all your practice files today, Sajid\n",
      "keep up the good work, John\n",
      "I wil be looking forward to receive all your practice files today, John\n"
     ]
    }
   ],
   "source": [
    "for x in students:\n",
    "    print(f\"keep up the good work, {x.title()}\")\n",
    "    print(f\"I wil be looking forward to receive all your practice files today, {x.title()}\")"
   ]
  },
  {
   "cell_type": "code",
   "execution_count": null,
   "metadata": {},
   "outputs": [],
   "source": [
    "# Improvisation of the syntax"
   ]
  },
  {
   "cell_type": "code",
   "execution_count": 33,
   "metadata": {},
   "outputs": [
    {
     "name": "stdout",
     "output_type": "stream",
     "text": [
      "keep up the good work, Suman\n",
      "I wil be looking forward to receive all your practice files today, Suman.\n",
      "\n",
      "keep up the good work, Keerthi\n",
      "I wil be looking forward to receive all your practice files today, Keerthi.\n",
      "\n",
      "keep up the good work, Yasmeen\n",
      "I wil be looking forward to receive all your practice files today, Yasmeen.\n",
      "\n",
      "keep up the good work, Ravi\n",
      "I wil be looking forward to receive all your practice files today, Ravi.\n",
      "\n",
      "keep up the good work, Praveen\n",
      "I wil be looking forward to receive all your practice files today, Praveen.\n",
      "\n",
      "keep up the good work, Sajid\n",
      "I wil be looking forward to receive all your practice files today, Sajid.\n",
      "\n",
      "keep up the good work, John\n",
      "I wil be looking forward to receive all your practice files today, John.\n",
      "\n"
     ]
    }
   ],
   "source": [
    "for x in students:\n",
    "    print(f\"keep up the good work, {x.title()}\")\n",
    "    print(f\"I wil be looking forward to receive all your practice files today, {x.title()}.\\n\")"
   ]
  },
  {
   "cell_type": "code",
   "execution_count": null,
   "metadata": {},
   "outputs": [],
   "source": []
  },
  {
   "cell_type": "code",
   "execution_count": 34,
   "metadata": {},
   "outputs": [
    {
     "name": "stdout",
     "output_type": "stream",
     "text": [
      "keep up the good work, Suman\n",
      "I wil be looking forward to receive all your practice files today, Suman.\n",
      "\n",
      "keep up the good work, Keerthi\n",
      "I wil be looking forward to receive all your practice files today, Keerthi.\n",
      "\n",
      "keep up the good work, Yasmeen\n",
      "I wil be looking forward to receive all your practice files today, Yasmeen.\n",
      "\n",
      "keep up the good work, Ravi\n",
      "I wil be looking forward to receive all your practice files today, Ravi.\n",
      "\n",
      "keep up the good work, Praveen\n",
      "I wil be looking forward to receive all your practice files today, Praveen.\n",
      "\n",
      "keep up the good work, Sajid\n",
      "I wil be looking forward to receive all your practice files today, Sajid.\n",
      "\n",
      "keep up the good work, John\n",
      "I wil be looking forward to receive all your practice files today, John.\n",
      "\n",
      "Thank you all for showing the interest of learning\n"
     ]
    }
   ],
   "source": [
    "for x in students:\n",
    "    print(f\"keep up the good work, {x.title()}\")\n",
    "    print(f\"I wil be looking forward to receive all your practice files today, {x.title()}.\\n\")\n",
    "\n",
    "print('Thank you all for showing the interest of learning')  # This line is written out of the Indentation hence its not hte part of the for loop "
   ]
  },
  {
   "cell_type": "code",
   "execution_count": null,
   "metadata": {},
   "outputs": [],
   "source": []
  },
  {
   "cell_type": "code",
   "execution_count": null,
   "metadata": {},
   "outputs": [],
   "source": [
    "# Intoduction to Zen of python:"
   ]
  },
  {
   "cell_type": "code",
   "execution_count": 38,
   "metadata": {},
   "outputs": [],
   "source": [
    "import this"
   ]
  },
  {
   "cell_type": "code",
   "execution_count": null,
   "metadata": {},
   "outputs": [],
   "source": []
  },
  {
   "cell_type": "code",
   "execution_count": null,
   "metadata": {},
   "outputs": [],
   "source": [
    "# Intoduction to organising the list:"
   ]
  },
  {
   "cell_type": "code",
   "execution_count": 39,
   "metadata": {},
   "outputs": [
    {
     "name": "stdout",
     "output_type": "stream",
     "text": [
      "['suman', 'keerthi', 'yasmeen', 'ravi', 'praveen', 'sajid', 'john']\n"
     ]
    }
   ],
   "source": [
    "print(students)"
   ]
  },
  {
   "cell_type": "code",
   "execution_count": null,
   "metadata": {},
   "outputs": [],
   "source": [
    "# 2 possible ways to display \n",
    "\n",
    "1. Temporary way\n",
    "2. Per Way"
   ]
  },
  {
   "cell_type": "code",
   "execution_count": 40,
   "metadata": {},
   "outputs": [
    {
     "name": "stdout",
     "output_type": "stream",
     "text": [
      "['john', 'keerthi', 'praveen', 'ravi', 'sajid', 'suman', 'yasmeen']\n"
     ]
    }
   ],
   "source": [
    "print(sorted(students))"
   ]
  },
  {
   "cell_type": "code",
   "execution_count": 41,
   "metadata": {},
   "outputs": [
    {
     "name": "stdout",
     "output_type": "stream",
     "text": [
      "['john', 'keerthi', 'praveen', 'ravi', 'sajid', 'suman', 'yasmeen']\n"
     ]
    }
   ],
   "source": [
    "students.sort()\n",
    "\n",
    "print(students)"
   ]
  },
  {
   "cell_type": "code",
   "execution_count": 42,
   "metadata": {},
   "outputs": [
    {
     "name": "stdout",
     "output_type": "stream",
     "text": [
      "['john', 'keerthi', 'praveen', 'ravi', 'sajid', 'suman', 'yasmeen']\n"
     ]
    }
   ],
   "source": [
    "print(students)"
   ]
  },
  {
   "cell_type": "code",
   "execution_count": null,
   "metadata": {},
   "outputs": [],
   "source": []
  }
 ],
 "metadata": {
  "kernelspec": {
   "display_name": "Python 3",
   "language": "python",
   "name": "python3"
  },
  "language_info": {
   "codemirror_mode": {
    "name": "ipython",
    "version": 3
   },
   "file_extension": ".py",
   "mimetype": "text/x-python",
   "name": "python",
   "nbconvert_exporter": "python",
   "pygments_lexer": "ipython3",
   "version": "3.7.6"
  }
 },
 "nbformat": 4,
 "nbformat_minor": 4
}
